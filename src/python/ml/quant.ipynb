{
 "cells": [
  {
   "cell_type": "code",
   "execution_count": 1,
   "metadata": {},
   "outputs": [
    {
     "ename": "RuntimeError",
     "evalue": "quantize_tensor_per_tensor_affine zero_point 128 is above upper bound.",
     "output_type": "error",
     "traceback": [
      "\u001b[0;31m---------------------------------------------------------------------------\u001b[0m",
      "\u001b[0;31mRuntimeError\u001b[0m                              Traceback (most recent call last)",
      "Cell \u001b[0;32mIn[1], line 10\u001b[0m\n\u001b[1;32m      8\u001b[0m scale \u001b[38;5;241m=\u001b[39m \u001b[38;5;241m0.1\u001b[39m\n\u001b[1;32m      9\u001b[0m zero_point \u001b[38;5;241m=\u001b[39m \u001b[38;5;241m128\u001b[39m\n\u001b[0;32m---> 10\u001b[0m x_int8 \u001b[38;5;241m=\u001b[39m \u001b[43mtorch\u001b[49m\u001b[38;5;241;43m.\u001b[39;49m\u001b[43mquantize_per_tensor\u001b[49m\u001b[43m(\u001b[49m\u001b[43mx_fp32\u001b[49m\u001b[43m,\u001b[49m\u001b[43m \u001b[49m\u001b[43mscale\u001b[49m\u001b[43m,\u001b[49m\u001b[43m \u001b[49m\u001b[43mzero_point\u001b[49m\u001b[43m,\u001b[49m\u001b[43m \u001b[49m\u001b[43mdtype\u001b[49m\u001b[38;5;241;43m=\u001b[39;49m\u001b[43mtorch\u001b[49m\u001b[38;5;241;43m.\u001b[39;49m\u001b[43mqint8\u001b[49m\u001b[43m)\u001b[49m\n\u001b[1;32m     12\u001b[0m \u001b[38;5;28mprint\u001b[39m(\u001b[38;5;124m\"\u001b[39m\u001b[38;5;124mQuantized Activation:\u001b[39m\u001b[38;5;124m\"\u001b[39m, x_int8)\n",
      "\u001b[0;31mRuntimeError\u001b[0m: quantize_tensor_per_tensor_affine zero_point 128 is above upper bound."
     ]
    }
   ],
   "source": [
    "import torch\n",
    "import torch.ao.quantization as quant\n",
    "\n",
    "# Define a floating-point tensor (activation)\n",
    "x_fp32 = torch.randn(3, 3)\n",
    "\n",
    "# Apply per-tensor activation quantization\n",
    "scale = 0.1\n",
    "zero_point = 128\n",
    "x_int8 = torch.quantize_per_tensor(x_fp32, scale, zero_point, dtype=torch.qint8)\n",
    "\n",
    "print(\"Quantized Activation:\", x_int8)"
   ]
  }
 ],
 "metadata": {
  "kernelspec": {
   "display_name": "Python 3",
   "language": "python",
   "name": "python3"
  },
  "language_info": {
   "codemirror_mode": {
    "name": "ipython",
    "version": 3
   },
   "file_extension": ".py",
   "mimetype": "text/x-python",
   "name": "python",
   "nbconvert_exporter": "python",
   "pygments_lexer": "ipython3",
   "version": "3.12.0"
  }
 },
 "nbformat": 4,
 "nbformat_minor": 2
}
